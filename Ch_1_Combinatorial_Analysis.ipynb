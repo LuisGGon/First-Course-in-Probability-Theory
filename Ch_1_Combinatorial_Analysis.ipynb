{
  "nbformat": 4,
  "nbformat_minor": 0,
  "metadata": {
    "colab": {
      "name": "Ch.1: Combinatorial Analysis",
      "provenance": [],
      "authorship_tag": "ABX9TyP1ERW2N5ux7+3Gcb5eapMK",
      "include_colab_link": true
    },
    "kernelspec": {
      "name": "python3",
      "display_name": "Python 3"
    },
    "language_info": {
      "name": "python"
    }
  },
  "cells": [
    {
      "cell_type": "markdown",
      "metadata": {
        "id": "view-in-github",
        "colab_type": "text"
      },
      "source": [
        "<a href=\"https://colab.research.google.com/github/LuisGGon/First-Course-in-Probability-Theory/blob/main/Ch_1_Combinatorial_Analysis.ipynb\" target=\"_parent\"><img src=\"https://colab.research.google.com/assets/colab-badge.svg\" alt=\"Open In Colab\"/></a>"
      ]
    },
    {
      "cell_type": "markdown",
      "source": [
        "# **A First Course in Probability**\n",
        "\n",
        "## Chapter 1. Combinatorial Analysis"
      ],
      "metadata": {
        "id": "RvZkimsjWCXc"
      }
    },
    {
      "cell_type": "markdown",
      "source": [
        "### Problems"
      ],
      "metadata": {
        "id": "yCl-eazFWlb7"
      }
    },
    {
      "cell_type": "markdown",
      "source": [
        "1. \n",
        "    (a). How many different 7-place license plates are possible if the first 2 places are for letters and the other 5 fot numbers?\n",
        "\n",
        "    (b). Repeat part (a) under the assumption that no letter or number can be repeated in a single license plate "
      ],
      "metadata": {
        "id": "_VODXdUFWr4u"
      }
    },
    {
      "cell_type": "markdown",
      "source": [
        "(a). Assume that each plate is a list. For example:\n",
        "[A, B, 5, 6, 2, 4, 8].\n",
        "So, using the principle of multiplication the solution is\n"
      ],
      "metadata": {
        "id": "4rBbmyUaXgAm"
      }
    },
    {
      "cell_type": "code",
      "source": [
        "def product(lst:list)->int:\n",
        "  prod = 1\n",
        "  for k in lst:\n",
        "    prod = prod*k\n",
        "  return prod\n",
        "\n",
        "solution_1a = product([26, 26, 10, 10, 10, 10, 10])\n",
        "solution_1a"
      ],
      "metadata": {
        "colab": {
          "base_uri": "https://localhost:8080/"
        },
        "id": "1KTJyAcTX5_h",
        "outputId": "9631b957-3248-4b1a-a203-483d31fb6e3c"
      },
      "execution_count": 3,
      "outputs": [
        {
          "output_type": "execute_result",
          "data": {
            "text/plain": [
              "67600000"
            ]
          },
          "metadata": {},
          "execution_count": 3
        }
      ]
    },
    {
      "cell_type": "markdown",
      "source": [
        "(b). In this case we cannot have plates of the form [A, A, 5, 6, 2, 4, 8] or [A, A, 5, 6, 2, 4, 4]. Hence,"
      ],
      "metadata": {
        "id": "YYmjAfuMZFci"
      }
    },
    {
      "cell_type": "code",
      "source": [
        "solution_1b = product([26, 25, 10, 9, 8, 7, 6])\n",
        "solution_1b"
      ],
      "metadata": {
        "colab": {
          "base_uri": "https://localhost:8080/"
        },
        "id": "NWG3hJGYZT7q",
        "outputId": "97c3218d-92cf-4edd-9777-10d071bbf4a9"
      },
      "execution_count": null,
      "outputs": [
        {
          "output_type": "execute_result",
          "data": {
            "text/plain": [
              "19656000"
            ]
          },
          "metadata": {},
          "execution_count": 5
        }
      ]
    },
    {
      "cell_type": "markdown",
      "source": [
        "2. How many outcome sequences are possible when a dice is rolled four times, where we say, for instance, that the outcome is 3, 4, 3, 1 if the first roll landed on 3, the second on 4, the third on 3 and the fourth on 1?"
      ],
      "metadata": {
        "id": "uBOI3k3sZ7d6"
      }
    },
    {
      "cell_type": "code",
      "source": [
        "solution_2 = 6**4\n",
        "solution_2"
      ],
      "metadata": {
        "colab": {
          "base_uri": "https://localhost:8080/"
        },
        "id": "TDZOQxmUafd1",
        "outputId": "a2483fe2-ac60-4592-9135-0b761410fe59"
      },
      "execution_count": null,
      "outputs": [
        {
          "output_type": "execute_result",
          "data": {
            "text/plain": [
              "1296"
            ]
          },
          "metadata": {},
          "execution_count": 8
        }
      ]
    },
    {
      "cell_type": "markdown",
      "source": [
        "3. Twenty workers are to be assigned to 20 different jobs, one to each job. How many different assignments are possible?"
      ],
      "metadata": {
        "id": "ysVx46UkaimK"
      }
    },
    {
      "cell_type": "markdown",
      "source": [
        "The first job can assigned to 20 workers, but the second job to only 19, and so on. So, the solution is\n",
        "$ 20\\times 19 \\times \\cdots \\times 2\\times 1 = 20!\n",
        "$"
      ],
      "metadata": {
        "id": "qdj8EYxIa9ra"
      }
    },
    {
      "cell_type": "code",
      "source": [
        "from math import factorial\n",
        "\n",
        "solution_3 = factorial(20)\n",
        "solution_3"
      ],
      "metadata": {
        "colab": {
          "base_uri": "https://localhost:8080/"
        },
        "id": "GxJhx8K4bbmm",
        "outputId": "c03a02cf-9d99-46e1-9c70-0e04eb4ef6c4"
      },
      "execution_count": null,
      "outputs": [
        {
          "output_type": "execute_result",
          "data": {
            "text/plain": [
              "2432902008176640000"
            ]
          },
          "metadata": {},
          "execution_count": 2
        }
      ]
    },
    {
      "cell_type": "markdown",
      "source": [
        "4. John, Jim, Jay, and Jack have formed a band consisting of 4 instruments. If each of the boys can play all four instruments, how many different arrangements are possible? What if John and Jim can play all four instruments, but Jay and Jack can each play only piano and drums."
      ],
      "metadata": {
        "id": "rEm9a2B0b6Fg"
      }
    },
    {
      "cell_type": "markdown",
      "source": [
        "The first intrument can be played by all of them, while the second one can be played by the remaining three, and so on. So,"
      ],
      "metadata": {
        "id": "vxGzlj7PcdNe"
      }
    },
    {
      "cell_type": "code",
      "source": [
        "solution_4a = factorial(4)\n",
        "solution_4a"
      ],
      "metadata": {
        "colab": {
          "base_uri": "https://localhost:8080/"
        },
        "id": "uCpFngIsc96S",
        "outputId": "39a1b9b6-30b8-4975-d4f5-c574d36d4685"
      },
      "execution_count": null,
      "outputs": [
        {
          "output_type": "execute_result",
          "data": {
            "text/plain": [
              "24"
            ]
          },
          "metadata": {},
          "execution_count": 10
        }
      ]
    },
    {
      "cell_type": "markdown",
      "source": [
        "In the second case, we focus on the boys. Let us start by the restriction imposed on Jay and Jack, this is, Jay and Jack can only play two intruments. Jay has two option, but John will have only one. After that, Jim can choose from two, but Jim would have only one. Then,"
      ],
      "metadata": {
        "id": "WB5s4FgFdOWi"
      }
    },
    {
      "cell_type": "code",
      "source": [
        "solution_4b = product([2, 1, 2, 1])\n",
        "solution_4b"
      ],
      "metadata": {
        "colab": {
          "base_uri": "https://localhost:8080/"
        },
        "id": "RdU-ypfnd2rb",
        "outputId": "a9ed603b-85e8-427e-a9f8-12558effb528"
      },
      "execution_count": null,
      "outputs": [
        {
          "output_type": "execute_result",
          "data": {
            "text/plain": [
              "4"
            ]
          },
          "metadata": {},
          "execution_count": 11
        }
      ]
    },
    {
      "cell_type": "markdown",
      "source": [
        "5. For years, telephone area codes in the USA and Canada consisted of a sequence of three digits. The first digit was an integer between 2 and 9, the second digit was either 0 or 1, and the third digit was any integer from 1 to 9. How many area codes were possible? How many code areas starting with a 4 were possible?"
      ],
      "metadata": {
        "id": "LCrdvPYJeCXA"
      }
    },
    {
      "cell_type": "code",
      "source": [
        "solution_5a = product([8, 2, 9])\n",
        "solution_5a"
      ],
      "metadata": {
        "colab": {
          "base_uri": "https://localhost:8080/"
        },
        "id": "nZI7EG4Jew1p",
        "outputId": "cd646c5f-8f3f-4ff2-bd42-8848db106a48"
      },
      "execution_count": null,
      "outputs": [
        {
          "output_type": "execute_result",
          "data": {
            "text/plain": [
              "144"
            ]
          },
          "metadata": {},
          "execution_count": 12
        }
      ]
    },
    {
      "cell_type": "code",
      "source": [
        "solution_5b = product([1, 2, 9])\n",
        "solution_5b"
      ],
      "metadata": {
        "colab": {
          "base_uri": "https://localhost:8080/"
        },
        "id": "br-3mQlifIZG",
        "outputId": "30fef121-771c-4a3e-ac99-bca972b7588e"
      },
      "execution_count": null,
      "outputs": [
        {
          "output_type": "execute_result",
          "data": {
            "text/plain": [
              "18"
            ]
          },
          "metadata": {},
          "execution_count": 13
        }
      ]
    },
    {
      "cell_type": "markdown",
      "source": [
        "6. A well-known nursery rhyme starts as follows:\n",
        "\n",
        "\"As I was going to St. Ives\n",
        "\n",
        "I met a man with 7 wives.\n",
        "\n",
        "Each wife had 7 sacks.\n",
        "\n",
        "Each sack had 7 cats.\n",
        "\n",
        "Each cat had seven kittens...\"\n",
        "\n",
        "How many kittens did the traveler meet?"
      ],
      "metadata": {
        "id": "h2iqMVOOfPS3"
      }
    },
    {
      "cell_type": "code",
      "source": [
        "solution_6 = 7**4\n",
        "solution_6"
      ],
      "metadata": {
        "colab": {
          "base_uri": "https://localhost:8080/"
        },
        "id": "cySG6YfigGGw",
        "outputId": "d3cf685e-327a-4aa7-8cff-61003350a04b"
      },
      "execution_count": null,
      "outputs": [
        {
          "output_type": "execute_result",
          "data": {
            "text/plain": [
              "2401"
            ]
          },
          "metadata": {},
          "execution_count": 14
        }
      ]
    },
    {
      "cell_type": "markdown",
      "source": [
        "7. \n",
        "    (a) In how many ways can 3 boys and 3 girls sit in a row?\n",
        "\n",
        "    (b) In how many ways can 3 boys and 3 girls sit in a row if the boys and the girls are each to sit together?\n",
        "\n",
        "    (c) In how many ways if only the boys must sit together?\n",
        "\n",
        "    (d) In how many ways if no two people of the same sex are allowed to sit together?"
      ],
      "metadata": {
        "id": "d4bt7XUzgQil"
      }
    },
    {
      "cell_type": "markdown",
      "source": [
        "(a). In this first item we do not make no assumption on the locations, so \n"
      ],
      "metadata": {
        "id": "LOf9ABVshNI7"
      }
    },
    {
      "cell_type": "code",
      "source": [
        "solution_7a = factorial(6)\n",
        "solution_7a"
      ],
      "metadata": {
        "colab": {
          "base_uri": "https://localhost:8080/"
        },
        "id": "7Ko0S7q0zn91",
        "outputId": "3cd88059-d843-45f0-dcb4-7906849092c8"
      },
      "execution_count": null,
      "outputs": [
        {
          "output_type": "execute_result",
          "data": {
            "text/plain": [
              "720"
            ]
          },
          "metadata": {},
          "execution_count": 15
        }
      ]
    },
    {
      "cell_type": "markdown",
      "source": [
        "(b). We have two possibilities if we drop any distinction among boys and girls, that is $BBBGGG$ and $GGGBBB$. Hence, "
      ],
      "metadata": {
        "id": "qlYtThwSzuhC"
      }
    },
    {
      "cell_type": "code",
      "source": [
        "solution_7b = 2*factorial(3)**2\n",
        "solution_7b"
      ],
      "metadata": {
        "colab": {
          "base_uri": "https://localhost:8080/"
        },
        "id": "vePrgJFb0Qus",
        "outputId": "f44a213c-590b-43a8-f087-28a7ef8869fa"
      },
      "execution_count": null,
      "outputs": [
        {
          "output_type": "execute_result",
          "data": {
            "text/plain": [
              "72"
            ]
          },
          "metadata": {},
          "execution_count": 16
        }
      ]
    },
    {
      "cell_type": "markdown",
      "source": [
        "(c). This item is very similar to the previous one. Notice that the number of configurations for $BBBGGG$ is equal to the number of configurations for $GBBBGG$. We need to compute how many times can we place the three boys together: 6-3+1=4. "
      ],
      "metadata": {
        "id": "QtiN-BSs0jds"
      }
    },
    {
      "cell_type": "code",
      "source": [
        "solution_7c = 4*factorial(3)**2\n",
        "solution_7c"
      ],
      "metadata": {
        "colab": {
          "base_uri": "https://localhost:8080/"
        },
        "id": "5Oyck7MO1qp3",
        "outputId": "d78dd394-9baf-43bd-97e8-b89e0d2ccf78"
      },
      "execution_count": null,
      "outputs": [
        {
          "output_type": "execute_result",
          "data": {
            "text/plain": [
              "144"
            ]
          },
          "metadata": {},
          "execution_count": 18
        }
      ]
    },
    {
      "cell_type": "markdown",
      "source": [
        "(d). We have only two possibilities: $BGBGBG$ or $GBGBGB$. Then,"
      ],
      "metadata": {
        "id": "9H3h3rKO3Vqx"
      }
    },
    {
      "cell_type": "code",
      "source": [
        "solution_7d = 2*factorial(3)**2\n",
        "solution_7d"
      ],
      "metadata": {
        "colab": {
          "base_uri": "https://localhost:8080/"
        },
        "id": "hGkH0Pv-38Oe",
        "outputId": "65efd2a3-6adf-4066-f781-f6891afa4ab2"
      },
      "execution_count": null,
      "outputs": [
        {
          "output_type": "execute_result",
          "data": {
            "text/plain": [
              "72"
            ]
          },
          "metadata": {},
          "execution_count": 19
        }
      ]
    },
    {
      "cell_type": "markdown",
      "source": [
        "8. How many different letter arrangements can be made from the letters\n",
        "    \n",
        "    (a) Fluke?\n",
        "\n",
        "    (b) Propose?\n",
        "    \n",
        "    (c) Mississippi?\n",
        "    \n",
        "    (d) Arrange?"
      ],
      "metadata": {
        "id": "2jhU_HZ94GrQ"
      }
    },
    {
      "cell_type": "code",
      "source": [
        "solution_8a = factorial(5)\n",
        "solution_8b = factorial(7)//(factorial(2)*factorial(2))\n",
        "solution_8c = factorial(11)//(factorial(4)*factorial(4)*factorial(2))\n",
        "solution_8d = factorial(7)//(factorial(2)*factorial(2))\n",
        "\n",
        "print('Solution to (a):', solution_8a)\n",
        "print('Solution to (b):', solution_8b)\n",
        "print('Solution to (c):', solution_8c)\n",
        "print('Solution to (d):', solution_8d)"
      ],
      "metadata": {
        "colab": {
          "base_uri": "https://localhost:8080/"
        },
        "id": "qI9nj1JZ4wtm",
        "outputId": "f81dcf1f-89f9-4a3b-c0ab-0df449a0aa46"
      },
      "execution_count": null,
      "outputs": [
        {
          "output_type": "stream",
          "name": "stdout",
          "text": [
            "Solution to (a): 120\n",
            "Solution to (b): 1260\n",
            "Solution to (c): 34650\n",
            "Solution to (d): 1260\n"
          ]
        }
      ]
    },
    {
      "cell_type": "markdown",
      "source": [
        "9. A child has 12 blocks, of which 6 are black, 4 are red, 1 is white, and 1 is blue. If the child puts the blocks in a line, how many arrangements are possible?"
      ],
      "metadata": {
        "id": "1osU8uYE50P3"
      }
    },
    {
      "cell_type": "code",
      "source": [
        "solution_9 = factorial(12)//(factorial(6)*factorial(4))\n",
        "solution_9"
      ],
      "metadata": {
        "colab": {
          "base_uri": "https://localhost:8080/"
        },
        "id": "smlFVdGO6O-b",
        "outputId": "24912659-8000-418a-e01b-5c7ed7bcbf1f"
      },
      "execution_count": null,
      "outputs": [
        {
          "output_type": "execute_result",
          "data": {
            "text/plain": [
              "27720"
            ]
          },
          "metadata": {},
          "execution_count": 23
        }
      ]
    },
    {
      "cell_type": "markdown",
      "source": [
        "10. In how many ways can 8 people be seated in a row if\n",
        "\n",
        "    (a) there are no restriction on the seating arrangement?\n",
        "\n",
        "    (b) persons *A* and *B* must sit next to each other?\n",
        "\n",
        "    (c) there are 4 men and 4 women and no 2 men or 2 women can sit next to each other?\n",
        "\n",
        "    (d) there are 5 men and they must sit next to each other?\n",
        "    \n",
        "    (e) there are 4 married couples and each couple must sit together?"
      ],
      "metadata": {
        "id": "N55o_dpE-G2I"
      }
    },
    {
      "cell_type": "code",
      "source": [
        "from math import factorial\n",
        "print('Solution to (a):', factorial(8))"
      ],
      "metadata": {
        "colab": {
          "base_uri": "https://localhost:8080/"
        },
        "id": "itae21Zd_NTz",
        "outputId": "0ae0d159-d640-46b0-a819-a3b5dbe14dbc"
      },
      "execution_count": null,
      "outputs": [
        {
          "output_type": "stream",
          "name": "stdout",
          "text": [
            "Solution to (a): 40320\n"
          ]
        }
      ]
    },
    {
      "cell_type": "markdown",
      "source": [
        "(b) Assume that *A* and *B* is a single person so, we now have 7 people to allocate. That gives us *7!* and the pair *AB* has two possible arrangements. Then,"
      ],
      "metadata": {
        "id": "5qEySt02_XFu"
      }
    },
    {
      "cell_type": "code",
      "source": [
        "print('Solution to (b):', 2*factorial(7))"
      ],
      "metadata": {
        "colab": {
          "base_uri": "https://localhost:8080/"
        },
        "id": "3Zl3b6Z4_s8F",
        "outputId": "e838e4a2-8f2a-45fc-91bc-ea2d876250d3"
      },
      "execution_count": null,
      "outputs": [
        {
          "output_type": "stream",
          "name": "stdout",
          "text": [
            "Solution to (b): 10080\n"
          ]
        }
      ]
    },
    {
      "cell_type": "markdown",
      "source": [
        "(c) This question is equivalent to allocate the 8 people with no possible same sex couples. So, we arrange the men in *4!* ways and the women also in *4!* ways. Then, taking into account the sex of the first person in the row:"
      ],
      "metadata": {
        "id": "dwYgV_K5_xZf"
      }
    },
    {
      "cell_type": "code",
      "source": [
        "print('Solution to (c):', 2*factorial(4)**2)"
      ],
      "metadata": {
        "colab": {
          "base_uri": "https://localhost:8080/"
        },
        "id": "b-LtJ4XMAICV",
        "outputId": "268afeed-6d0a-4047-f2c0-0d1b50874811"
      },
      "execution_count": null,
      "outputs": [
        {
          "output_type": "stream",
          "name": "stdout",
          "text": [
            "Solution to (c): 1152\n"
          ]
        }
      ]
    },
    {
      "cell_type": "markdown",
      "source": [
        "(d) Take the 5 men as a single person, so we have to allocate 4 people that gives 4!, times the 5! possibilities for all 5 men. Then,"
      ],
      "metadata": {
        "id": "Uk59k6742tPo"
      }
    },
    {
      "cell_type": "code",
      "source": [
        "print('Solution to (d):', factorial(4)*factorial(5))"
      ],
      "metadata": {
        "colab": {
          "base_uri": "https://localhost:8080/"
        },
        "id": "-VKWevEM3K2g",
        "outputId": "0b5095cf-dc00-44b7-e7ab-c7485d099f5f"
      },
      "execution_count": null,
      "outputs": [
        {
          "output_type": "stream",
          "name": "stdout",
          "text": [
            "Solution to (d): 2880\n"
          ]
        }
      ]
    },
    {
      "cell_type": "markdown",
      "source": [
        "(e) The four couples can be seated in 4! ways, and each couple has 2 possible arrangements. The, "
      ],
      "metadata": {
        "id": "xymmKF783QrJ"
      }
    },
    {
      "cell_type": "code",
      "source": [
        "print('Solution to (2):', factorial(4)*2**4)"
      ],
      "metadata": {
        "colab": {
          "base_uri": "https://localhost:8080/"
        },
        "id": "3b_q7NUn3h-V",
        "outputId": "b896baa1-9026-488e-891a-c324469e8f36"
      },
      "execution_count": null,
      "outputs": [
        {
          "output_type": "stream",
          "name": "stdout",
          "text": [
            "Solution to (2): 384\n"
          ]
        }
      ]
    },
    {
      "cell_type": "markdown",
      "source": [
        "11. In how many ways can 3 novels, 2 mathematics books, and 1 chemistry book be arranged on a bookshelf if\n",
        "    \n",
        "    (a) the books can be arranged in any order?\n",
        "\n",
        "    (b) the mathematics books must be together and the novels must be together?\n",
        "\n",
        "    (c) the novels must be together, but the other books can be arranged in any order?"
      ],
      "metadata": {
        "id": "nXp8D5yF3vju"
      }
    },
    {
      "cell_type": "code",
      "source": [
        "print('Solution to (a):', factorial(6))"
      ],
      "metadata": {
        "colab": {
          "base_uri": "https://localhost:8080/"
        },
        "id": "MPXnwd2F4tl_",
        "outputId": "9e031cdc-e63d-450b-d135-47aa8e333c89"
      },
      "execution_count": null,
      "outputs": [
        {
          "output_type": "stream",
          "name": "stdout",
          "text": [
            "Solution to (a): 720\n"
          ]
        }
      ]
    },
    {
      "cell_type": "markdown",
      "source": [
        "(b) Consider the novels as a unit as well as the mathematics books. Then, we have three books, that gives 3!. Now, we need to multiply by the different allocations for math books and novels. Then,"
      ],
      "metadata": {
        "id": "dMRg5PX845EW"
      }
    },
    {
      "cell_type": "code",
      "source": [
        "print('Solution to (b):', factorial(3)*factorial(3)*factorial(2))"
      ],
      "metadata": {
        "colab": {
          "base_uri": "https://localhost:8080/"
        },
        "id": "IAkRmxSx5MJQ",
        "outputId": "d45be39a-1fe1-4767-adda-b0461b07bf8d"
      },
      "execution_count": null,
      "outputs": [
        {
          "output_type": "stream",
          "name": "stdout",
          "text": [
            "Solution to (b): 72\n"
          ]
        }
      ]
    },
    {
      "cell_type": "code",
      "source": [
        "print('Solution to (c):', factorial(4)*factorial(3))"
      ],
      "metadata": {
        "colab": {
          "base_uri": "https://localhost:8080/"
        },
        "id": "dMmJkJCn5ctX",
        "outputId": "d34e497d-8b90-4143-9d41-b89c1ca30aa2"
      },
      "execution_count": null,
      "outputs": [
        {
          "output_type": "stream",
          "name": "stdout",
          "text": [
            "Solution to (c): 144\n"
          ]
        }
      ]
    },
    {
      "cell_type": "markdown",
      "source": [
        "12. Five separate awards (best scholarship, best leadership qualities, and so on) are to be presented to selected students from a class of 30. How many different outcomes are possible if\n",
        "\n",
        "    (a) a student can receive any number of awards?\n",
        "\n",
        "    (b) each student can receive at most 1 award?"
      ],
      "metadata": {
        "id": "OpQLgWOtUy8n"
      }
    },
    {
      "cell_type": "markdown",
      "source": [
        "(a) So, the first award can be won by any of the 30 students. The same goes for the second award, and so on. Then,"
      ],
      "metadata": {
        "id": "ZeONLHY4VXk4"
      }
    },
    {
      "cell_type": "code",
      "source": [
        "print('Solution to (a):', 30**5)"
      ],
      "metadata": {
        "colab": {
          "base_uri": "https://localhost:8080/"
        },
        "id": "tK7wK4wFVpVZ",
        "outputId": "bcb6a757-87c0-40cf-83c4-86f18fcfc9f4"
      },
      "execution_count": null,
      "outputs": [
        {
          "output_type": "stream",
          "name": "stdout",
          "text": [
            "Solution to (a): 24300000\n"
          ]
        }
      ]
    },
    {
      "cell_type": "markdown",
      "source": [
        "(b) In this case, the second award can be given to one out of 29 students, while the third one only to 28. Then, "
      ],
      "metadata": {
        "id": "lLe55CZ8V4qB"
      }
    },
    {
      "cell_type": "code",
      "source": [
        "print('Solution to (a):', 30*29*28*27*26)"
      ],
      "metadata": {
        "colab": {
          "base_uri": "https://localhost:8080/"
        },
        "id": "INE7cfUMWH5F",
        "outputId": "ab0694ff-1ee1-4c40-c967-190a81627af4"
      },
      "execution_count": null,
      "outputs": [
        {
          "output_type": "stream",
          "name": "stdout",
          "text": [
            "Solution to (a): 17100720\n"
          ]
        }
      ]
    },
    {
      "cell_type": "markdown",
      "source": [
        "13. Consider a group of 20 people. If everyone shakes hands with everyone else, how many handshakes takes place?"
      ],
      "metadata": {
        "id": "SOec6gK8Wmit"
      }
    },
    {
      "cell_type": "markdown",
      "source": [
        "The first one shakes hands with 19, while the second one with 18. Then,"
      ],
      "metadata": {
        "id": "6tOSGnMJW3eh"
      }
    },
    {
      "cell_type": "code",
      "source": [
        "from math import factorial\n",
        "def binomial(n,k):\n",
        "    return factorial(n)//(factorial(k)*factorial(n-k))"
      ],
      "metadata": {
        "id": "LVFbC7jiXAse"
      },
      "execution_count": 7,
      "outputs": []
    },
    {
      "cell_type": "code",
      "source": [
        "print('Solution:', binomial(20,2))"
      ],
      "metadata": {
        "colab": {
          "base_uri": "https://localhost:8080/"
        },
        "id": "8dFZ7Bn2YIXc",
        "outputId": "5733cce3-a4bb-4238-c5f0-76e985ebca75"
      },
      "execution_count": null,
      "outputs": [
        {
          "output_type": "stream",
          "name": "stdout",
          "text": [
            "Solution: 190\n"
          ]
        }
      ]
    },
    {
      "cell_type": "markdown",
      "source": [
        "14. How many 5-card poker hands are there?"
      ],
      "metadata": {
        "id": "lDd1N9Chsq7W"
      }
    },
    {
      "cell_type": "code",
      "source": [
        "print('Solution:', binomial(52,5))"
      ],
      "metadata": {
        "colab": {
          "base_uri": "https://localhost:8080/"
        },
        "id": "4s-OAzGvtGdU",
        "outputId": "8e99e67b-2c73-45c7-f284-1b0b2322d611"
      },
      "execution_count": null,
      "outputs": [
        {
          "output_type": "stream",
          "name": "stdout",
          "text": [
            "Solution: 2598960\n"
          ]
        }
      ]
    },
    {
      "cell_type": "markdown",
      "source": [
        "15. A dance class consists of 22 students, of which 10 are women and 12 are men. If 5 men and 5 women are to be chosen and then, paired off, how many results are possible?"
      ],
      "metadata": {
        "id": "U5JYE92ZtPvV"
      }
    },
    {
      "cell_type": "markdown",
      "source": [
        "We can select the five men in $\\binom{12}{5}$ ways and the five women in $\\binom{10}{5}$. That gives us $\\binom{12}{5}\\binom{10}{5}$ possible pairings. In addition, for each pairing we have 5! couples. Then,"
      ],
      "metadata": {
        "id": "9O97Z40utmpl"
      }
    },
    {
      "cell_type": "code",
      "source": [
        "print('Solution:', binomial(12,5)*binomial(10,5)*factorial(5))"
      ],
      "metadata": {
        "colab": {
          "base_uri": "https://localhost:8080/"
        },
        "id": "fwVdOaP0xoL2",
        "outputId": "4ab86906-4395-432f-d5b9-69d17d8591df"
      },
      "execution_count": null,
      "outputs": [
        {
          "output_type": "stream",
          "name": "stdout",
          "text": [
            "Solution: 23950080\n"
          ]
        }
      ]
    },
    {
      "cell_type": "markdown",
      "source": [
        "16. A student has to sell 2 books from a collection of 6 math, 7 science, and 4 economics books. How many choices are possible if\n",
        "\n",
        "    (a) both books are to be on the same subject?\n",
        "\n",
        "    (b) the books are to be on different subjects?"
      ],
      "metadata": {
        "id": "N2wXcatEyNdq"
      }
    },
    {
      "cell_type": "markdown",
      "source": [
        "(a) We can split the possible solution in three: math books + science books + economics books. Then,"
      ],
      "metadata": {
        "id": "w74hCKqLy0PT"
      }
    },
    {
      "cell_type": "code",
      "source": [
        "print('Solution to (a):', binomial(6,2) + binomial(7,2) + binomial(4,2))"
      ],
      "metadata": {
        "colab": {
          "base_uri": "https://localhost:8080/"
        },
        "id": "Z9NrcfMS1hjU",
        "outputId": "ae285800-8da1-492c-d77c-dbd00c20ad7d"
      },
      "execution_count": null,
      "outputs": [
        {
          "output_type": "stream",
          "name": "stdout",
          "text": [
            "Solution to (a): 42\n"
          ]
        }
      ]
    },
    {
      "cell_type": "markdown",
      "source": [
        "(b) If we fix a math book, then it can paired up with an economics or science book. If we fix a science book, it can paired with economics book only, because the combination with math books has been already counted. Then,"
      ],
      "metadata": {
        "id": "pAFNWuKn1spv"
      }
    },
    {
      "cell_type": "code",
      "source": [
        "print('Solution to (b):', 6*7 + 6*4 + 7*4)"
      ],
      "metadata": {
        "colab": {
          "base_uri": "https://localhost:8080/"
        },
        "id": "Wu_gFpbr5-QF",
        "outputId": "dc594dcf-acd1-4e9b-c857-24a0d6f39ee7"
      },
      "execution_count": null,
      "outputs": [
        {
          "output_type": "stream",
          "name": "stdout",
          "text": [
            "Solution to (b): 94\n"
          ]
        }
      ]
    },
    {
      "cell_type": "markdown",
      "source": [
        "17. Seven different gifts are to be distributed among 10 children. How many distinct results are possible if no child is to receive more than one gift?"
      ],
      "metadata": {
        "id": "meZcjIe76Hja"
      }
    },
    {
      "cell_type": "code",
      "source": [
        "print('Solution:', binomial(10,7)*factorial(7))"
      ],
      "metadata": {
        "colab": {
          "base_uri": "https://localhost:8080/"
        },
        "id": "LB7WIEIh62qJ",
        "outputId": "4fe4f6ea-b571-4464-fd1d-3ab87148b633"
      },
      "execution_count": null,
      "outputs": [
        {
          "output_type": "stream",
          "name": "stdout",
          "text": [
            "Solution: 604800\n"
          ]
        }
      ]
    },
    {
      "cell_type": "markdown",
      "source": [
        "18. A committee of 7, consisting of 2 Republicans, 2 Democrats, and 3 Independents, is to be chosen from a group of 5 Republicans, 6 Democrats, and 4 Independents. How many committees are possible?"
      ],
      "metadata": {
        "id": "he9Ig-VI6905"
      }
    },
    {
      "cell_type": "code",
      "source": [
        "print('Solution:', binomial(5,5)*binomial(6,2)*binomial(4,3))"
      ],
      "metadata": {
        "id": "O-HIXMC-7Ub1"
      },
      "execution_count": null,
      "outputs": []
    },
    {
      "cell_type": "markdown",
      "source": [
        "19. From a group of 8 women and 6 men, a committee consisting of 3 men and 3 women is to be formed. How many different committees are possible if:\n",
        "\n",
        "    (a) 2 of the men refuse to serve together?\n",
        "\n",
        "    (b) 2 of the women refuse to serve together?\n",
        "\n",
        "    (c) 1 man and 1 woman refuse to serve together?"
      ],
      "metadata": {
        "id": "_Co105uc8diY"
      }
    },
    {
      "cell_type": "markdown",
      "source": [
        "(a) We have $\\binom{8}{3}$ choices for the women. In addtion, we have $\\binom{4}{3}$ choices of men without any of the conflictive two, and $2\\binom{4}{2}$ that contains exactly one of them. So,"
      ],
      "metadata": {
        "id": "pMso9fCm8_vK"
      }
    },
    {
      "cell_type": "code",
      "source": [
        "print('Solution: to (a)', binomial(8,3)*(binomial(4,3) + 2*binomial(4,2)))"
      ],
      "metadata": {
        "colab": {
          "base_uri": "https://localhost:8080/"
        },
        "id": "53jRVclF_-tU",
        "outputId": "3d60cda5-7ff5-4f41-9975-1b4dfba8bb22"
      },
      "execution_count": null,
      "outputs": [
        {
          "output_type": "stream",
          "name": "stdout",
          "text": [
            "Solution: to (a) 896\n"
          ]
        }
      ]
    },
    {
      "cell_type": "code",
      "source": [
        "print('Solution: to (b)', binomial(6,3)*(binomial(6,3) + 2*binomial(6,2)))"
      ],
      "metadata": {
        "colab": {
          "base_uri": "https://localhost:8080/"
        },
        "id": "QGQbeskIAULI",
        "outputId": "669e426a-f7cf-42e2-cbd2-ff49af5c1dd1"
      },
      "execution_count": null,
      "outputs": [
        {
          "output_type": "stream",
          "name": "stdout",
          "text": [
            "Solution: to (b) 1000\n"
          ]
        }
      ]
    },
    {
      "cell_type": "markdown",
      "source": [
        "(c)  There are $\\binom{7}{3}\\binom{5}{3}$ committees without both of the feuding people. There are $\\binom{7}{2}\\binom{5}{3}$ committes with the woman and without the man. There are $\\binom{7}{3}\\binom{5}{2}$ committes with the man and without the woman. Hence,"
      ],
      "metadata": {
        "id": "yGxsz42qAMr2"
      }
    },
    {
      "cell_type": "code",
      "source": [
        "print('Solution: to (c)', binomial(7,3)*binomial(5,3) + binomial(7,2)*binomial(5,3) + binomial(7,3)*binomial(5,2))"
      ],
      "metadata": {
        "colab": {
          "base_uri": "https://localhost:8080/"
        },
        "id": "Y6hTTK3NBq3f",
        "outputId": "8d97afb4-e875-4ee2-a6b8-96a97038f287"
      },
      "execution_count": null,
      "outputs": [
        {
          "output_type": "stream",
          "name": "stdout",
          "text": [
            "Solution: to (c) 910\n"
          ]
        }
      ]
    },
    {
      "cell_type": "markdown",
      "source": [
        "20. A person has 8 friends, of whom 5 will be invited to a party.\n",
        "\n",
        "    (a) How many choices are there if 2 of the friends are feuding and will not attend together?\n",
        "\n",
        "    (b) How many choices if 2 of the friends will only attend together?"
      ],
      "metadata": {
        "id": "sYx4EZFEDij1"
      }
    },
    {
      "cell_type": "code",
      "source": [
        "print('Solution: to (a)', binomial(6,5) + 2*binomial(7,4))\n",
        "print('Solution: to (b)', binomial(6,5) + binomial(6,3))"
      ],
      "metadata": {
        "colab": {
          "base_uri": "https://localhost:8080/"
        },
        "id": "G9Xj9jN4D72e",
        "outputId": "534d07fc-d884-41da-e6bc-2c4480e912a4"
      },
      "execution_count": null,
      "outputs": [
        {
          "output_type": "stream",
          "name": "stdout",
          "text": [
            "Solution: to (a) 76\n",
            "Solution: to (b) 26\n"
          ]
        }
      ]
    },
    {
      "cell_type": "markdown",
      "source": [
        "21. Consider the grid of points shown here. Suppose that, starting at the point labeled *A*, you can go one step up or one step to the right at each move. This procedure is continued until the point labeled *B* is reached. How many different paths from *A* to *B* are possible?"
      ],
      "metadata": {
        "id": "-NEVQCDiiTHG"
      }
    },
    {
      "cell_type": "markdown",
      "source": [
        "Notice that a path is a \"chain\" of *r* (right) and *u* (up) of length 7, where there are 4 *r*'s and 3 *u*'s. Then, "
      ],
      "metadata": {
        "id": "TExz27UsjbT6"
      }
    },
    {
      "cell_type": "code",
      "source": [
        "print('Solution:', factorial(7)//(factorial(3)*factorial(4)))"
      ],
      "metadata": {
        "colab": {
          "base_uri": "https://localhost:8080/"
        },
        "id": "SNzWKK5Xj_cJ",
        "outputId": "3ff59980-0067-4f31-ce90-995f1ec28c11"
      },
      "execution_count": null,
      "outputs": [
        {
          "output_type": "stream",
          "name": "stdout",
          "text": [
            "Solution: 35\n"
          ]
        }
      ]
    },
    {
      "cell_type": "markdown",
      "source": [
        "22. In Problem 21, how many different paths are there from *A* to *B* that go through the point circled in the following lattice?"
      ],
      "metadata": {
        "id": "uBNYcbQd02Rw"
      }
    },
    {
      "cell_type": "markdown",
      "source": [
        "Now we need to compute all possible paths from *A* to the intermediate point, and then multiply by all possible path from the intermediate point to *B*. Then,"
      ],
      "metadata": {
        "id": "b5DUVb-J1TjD"
      }
    },
    {
      "cell_type": "code",
      "source": [
        "print('Solution:', (factorial(4)//(factorial(2)*factorial(2)))*(factorial(3)//(factorial(2)*factorial(1))))"
      ],
      "metadata": {
        "colab": {
          "base_uri": "https://localhost:8080/"
        },
        "id": "rbdXwNKO1q0N",
        "outputId": "9fc3541d-0d7a-4aea-d5e1-98f4a71522f9"
      },
      "execution_count": null,
      "outputs": [
        {
          "output_type": "stream",
          "name": "stdout",
          "text": [
            "Solution: 18\n"
          ]
        }
      ]
    },
    {
      "cell_type": "markdown",
      "source": [
        "23. A psychology laboratory conducting dream research contains 3 rooms, with 2 beds in each room. If 3 sets of identical twins are to be assigned to these 6 beds so that each set of twin sleeps in different beds in the same room, how many assingments are possible?"
      ],
      "metadata": {
        "id": "lUjuTRy72EVk"
      }
    },
    {
      "cell_type": "code",
      "source": [
        "print('Solution:', factorial(3)*2**3)"
      ],
      "metadata": {
        "colab": {
          "base_uri": "https://localhost:8080/"
        },
        "id": "2HRDgMeh62kv",
        "outputId": "ba191c4f-a761-4403-e8b0-d6fbf3c91c67"
      },
      "execution_count": null,
      "outputs": [
        {
          "output_type": "stream",
          "name": "stdout",
          "text": [
            "Solution: 48\n"
          ]
        }
      ]
    },
    {
      "cell_type": "markdown",
      "source": [
        "24. Expand $(3x^2+y)^5$."
      ],
      "metadata": {
        "id": "hSahCzKE6-M6"
      }
    },
    {
      "cell_type": "markdown",
      "source": [
        "$$(3x^2+y)^5 = \\sum_{k=0}^5 \\binom{5}{k}3^k x^{2k}y^{5-k}.$$"
      ],
      "metadata": {
        "id": "nbQxkNim7eBO"
      }
    },
    {
      "cell_type": "markdown",
      "source": [
        "25. The game of bridge is played by 4 players, each of whom is dealt 13 cards. How many bridge deals are possible?"
      ],
      "metadata": {
        "id": "5RrMEwcF73T-"
      }
    },
    {
      "cell_type": "code",
      "source": [
        "# https://stackoverflow.com/a/46376039\n",
        "from scipy.special import comb\n",
        "\n",
        "def multinomial(params):\n",
        "    if len(params) == 1:\n",
        "        return 1\n",
        "    coeff = (comb(sum(params), params[-1], exact=True)*multinomial(params[:-1]))\n",
        "    return coeff"
      ],
      "metadata": {
        "id": "oZQcXRh8_pio"
      },
      "execution_count": 1,
      "outputs": []
    },
    {
      "cell_type": "code",
      "source": [
        "print('Solution:', multinomial([13,13,13,13]))"
      ],
      "metadata": {
        "colab": {
          "base_uri": "https://localhost:8080/"
        },
        "id": "xv58AAHi_2KK",
        "outputId": "12d5477c-fbb9-43a6-8219-8c92a0cb7dc1"
      },
      "execution_count": null,
      "outputs": [
        {
          "output_type": "stream",
          "name": "stdout",
          "text": [
            "Solution: 53644737765488792839237440000\n"
          ]
        }
      ]
    },
    {
      "cell_type": "markdown",
      "source": [
        "27. If 12 people are to be divided into 3 committees of respective sizes 3, 4, and 5, how many divisions are possible?"
      ],
      "metadata": {
        "id": "sXX-j1nlEPsL"
      }
    },
    {
      "cell_type": "markdown",
      "source": [
        "This is a multinomial problem. Then, $\\binom{12}{3,4,5}.$"
      ],
      "metadata": {
        "id": "O5EAQTTEVgaa"
      }
    },
    {
      "cell_type": "code",
      "source": [
        "print('Solution:', multinomial([3,4,5]))"
      ],
      "metadata": {
        "colab": {
          "base_uri": "https://localhost:8080/"
        },
        "id": "kSyNooDSVo6S",
        "outputId": "2fe9df67-cd02-4b62-ff5c-62c291000059"
      },
      "execution_count": 2,
      "outputs": [
        {
          "output_type": "stream",
          "name": "stdout",
          "text": [
            "Solution: 27720\n"
          ]
        }
      ]
    },
    {
      "cell_type": "markdown",
      "source": [
        "28. If 8 teachers are to be divided among four schools, how many divisions are possible? What if each school must receive 2 teachers?"
      ],
      "metadata": {
        "id": "BbBngQcJFVrO"
      }
    },
    {
      "cell_type": "markdown",
      "source": [
        "If we do not impose restrictions on the number of teachers at each school, we simply use the multiplication principle taking into account that each teacher can be assigned to one of four schools, so $4^8$. In the other case, we have a multinomial problem and the solution is $\\displaystyle\\binom{8}{2,2,2,2}$."
      ],
      "metadata": {
        "id": "oZlf8Jq3WwEB"
      }
    },
    {
      "cell_type": "code",
      "source": [
        "print('Solution:', 4**8)\n",
        "print('Solution:', multinomial([2,2,2,2]))"
      ],
      "metadata": {
        "colab": {
          "base_uri": "https://localhost:8080/"
        },
        "id": "JznfT2wCXxyX",
        "outputId": "2ff9923b-edf0-41de-8e85-b2145e2be5fb"
      },
      "execution_count": 5,
      "outputs": [
        {
          "output_type": "stream",
          "name": "stdout",
          "text": [
            "Solution: 65536\n",
            "Solution: 2520\n"
          ]
        }
      ]
    },
    {
      "cell_type": "markdown",
      "source": [
        "29. Ten weight lifters are competing in a team weightlifting contest. Of the lifters, 3 are from the United States, 4 are from Russia, 2 are from China, and 1 is from Canada. If the scoring takes account of the countries that the lifters represent, but not their individual identities, how many different outcomes are possible from the point of view of scores? How many different outcomes correspond to results in which the United States has 1 competitor in the top three and 2 in the bottom three?"
      ],
      "metadata": {
        "id": "92ghNJHeFjTT"
      }
    },
    {
      "cell_type": "markdown",
      "source": [
        "The first part is easy: it is just a multinomial problem, so $\\displaystyle \\binom{10}{3,4,2,1}$.\n",
        "\n",
        "For the second part. Divide the ten slots in three, positions (1,2,3) in the first one, (4,5,6,7) in the second one, and (8,9,10) in the last one. Then, in the first one we need to allocate one US competitor: $\\binom{3}{1}$ possibilities, while in the third one we need to allocate 2 US competitors: $\\binom{3}{2}$ possibilities. Finally, we have 7 remaining slots, and those are choosen by a multinomial problem: $\\binom{7}{4,2,1}$. Then,"
      ],
      "metadata": {
        "id": "HeBzxnIWZ1qw"
      }
    },
    {
      "cell_type": "code",
      "source": [
        "print('Solution:', multinomial([3,4,2,1]))\n",
        "print('Solution:', binomial(3,1)*binomial(3,2)*multinomial([4,2,1]))"
      ],
      "metadata": {
        "colab": {
          "base_uri": "https://localhost:8080/"
        },
        "id": "xDTogd6EZO2g",
        "outputId": "58f95ba5-ba7e-470c-db3c-f2ec222c9694"
      },
      "execution_count": 8,
      "outputs": [
        {
          "output_type": "stream",
          "name": "stdout",
          "text": [
            "Solution: 12600\n",
            "Solution: 945\n"
          ]
        }
      ]
    },
    {
      "cell_type": "markdown",
      "source": [
        "30. Delegates from 10 countries, including Russia, France, England, and the United States, are to be seated in a row. How many different seating  arrangements are possible if the French and English delegates are to be seated next to each other and the Russian and U.S. delegates are not to be next to each other?"
      ],
      "metadata": {
        "id": "wRv7M7hTGFgx"
      }
    },
    {
      "cell_type": "markdown",
      "source": [
        "Notice that we have $2\\cdot 9!$ ways where the English and French representatives are seated together. Now, the number of possibilities where the English and French representatives are seated together, and the Russian and Northamerican are also together is $2^2\\cdot 8!$. Then,"
      ],
      "metadata": {
        "id": "EZXAh5cCgJgt"
      }
    },
    {
      "cell_type": "code",
      "source": [
        "print('Solution:', 2*factorial(9) - 2**2*factorial(8))"
      ],
      "metadata": {
        "colab": {
          "base_uri": "https://localhost:8080/"
        },
        "id": "p4WUGUT6gvSp",
        "outputId": "d78c663f-75c7-49d1-9dbf-d3f6a7d6fbbb"
      },
      "execution_count": 9,
      "outputs": [
        {
          "output_type": "stream",
          "name": "stdout",
          "text": [
            "Solution: 564480\n"
          ]
        }
      ]
    },
    {
      "cell_type": "markdown",
      "source": [
        "31. if 8 identical blackboards are to be divided among 4 schools, how many divisions are possible? How many if each school must receive at least 1 blackboard?"
      ],
      "metadata": {
        "id": "avxAtgLJg7ek"
      }
    },
    {
      "cell_type": "markdown",
      "source": [
        "The first part of problem is equivalent to find all vectors of length 4, namely $(x_1,x_2,x_3,x_4)$ with non-negative integer components, such that $x_1+x_2+x_3+x_4=8$. The second part is equivalent to the same problem with positive integer components. Then,"
      ],
      "metadata": {
        "id": "xInVx94Jhf1_"
      }
    },
    {
      "cell_type": "code",
      "source": [
        "print('Solution:', binomial(8+4-1, 4-1))\n",
        "print('Solution:', binomial(8-1, 4-1))"
      ],
      "metadata": {
        "colab": {
          "base_uri": "https://localhost:8080/"
        },
        "id": "cMesGQBhiFtb",
        "outputId": "10c3e993-a950-4ca9-a8f1-dd87f8f5d097"
      },
      "execution_count": 10,
      "outputs": [
        {
          "output_type": "stream",
          "name": "stdout",
          "text": [
            "Solution: 165\n",
            "Solution: 35\n"
          ]
        }
      ]
    },
    {
      "cell_type": "markdown",
      "source": [
        "32. An elevator starts at the basement with 8 people (not including the elevator operator) and discharges them all by the time it reaches the top floor, number 6. In how many ways could the operator have perceived the people leaving the elevator if all people look alike to him? What if the 8 people consisted of 5 men and 3 women and the operator could tell a man from a woman?"
      ],
      "metadata": {
        "id": "ExxJeJm8ibbD"
      }
    },
    {
      "cell_type": "markdown",
      "source": [
        "The first par of the problem is equivalent to find the number of possible vectors $(x_1,\\ldots, x_6)\\in\\mathbb{Z}^6$, such that $x_1+\\cdots+x_6=8$. On the other hand, the second part is analogous to the first one, but now we need to solve the problem for  $(y_1,\\ldots, y_6)\\in\\mathbb{Z}^6$, such that $y_1+\\cdots+y_6=5$ and $(z_1,\\ldots, z_6)\\in\\mathbb{Z}^6$, such that $z_1+\\cdots+z_6=3$ and then use the multiplication principle. Then, "
      ],
      "metadata": {
        "id": "7nVaRgFKjAMz"
      }
    },
    {
      "cell_type": "code",
      "source": [
        "print('Solution:', binomial(8+6-1, 6-1))\n",
        "print('Solution:', binomial(5+6-1, 6-1)*binomial(3+6-1,6-1))"
      ],
      "metadata": {
        "colab": {
          "base_uri": "https://localhost:8080/"
        },
        "id": "w_A42SSkj6PL",
        "outputId": "38e49914-6346-4ee3-e8f4-9060b971f177"
      },
      "execution_count": 11,
      "outputs": [
        {
          "output_type": "stream",
          "name": "stdout",
          "text": [
            "Solution: 1287\n",
            "Solution: 14112\n"
          ]
        }
      ]
    },
    {
      "cell_type": "markdown",
      "source": [
        "33. We have 20 thousand dollars that must be invested among 4 possible oportunities. Esch investment must be integral in units of 1 thousand dollars, and there are minimal investments that need to be made if one is to invest in these opportunities. The minimal investments are 2, 2, 3, and 4 thousand dollars. How many different investments strategies are available if\n",
        "\n",
        "    (a) an investment must be made in each opportunity?\n",
        "\n",
        "    (b) investments must be made in at least 3 of the 4 opportunities?"
      ],
      "metadata": {
        "id": "UyVjJBejkcN2"
      }
    },
    {
      "cell_type": "markdown",
      "source": [
        "Solution to (a). We need to find the number of vectors $(x_1,\\ldots,x_4)\\in\\mathbb{Z}^4$ such that $x_1+\\cdots+x_4=20$, and $x_1,x_2\\geq 2$, $x_3\\geq 3$ and $x_4\\geq 4$.\n",
        "\n",
        "Let us make the change of variable $x_1-2=y_1$, $x_2-2=y_2$, $x_3-3=y_3$, and $x_4-2=y_4$. So, we get $y_1+\\cdots+y_4=9$, $y_i\\geq 0$. Then, we have"
      ],
      "metadata": {
        "id": "xeZ2Q0RqlSxj"
      }
    },
    {
      "cell_type": "code",
      "source": [
        "print('Solution:', binomial(9+4-1, 4-1))"
      ],
      "metadata": {
        "colab": {
          "base_uri": "https://localhost:8080/"
        },
        "id": "Ll9-tYFVmgzh",
        "outputId": "03475636-9828-4c27-ab9a-3988107fd39b"
      },
      "execution_count": 12,
      "outputs": [
        {
          "output_type": "stream",
          "name": "stdout",
          "text": [
            "Solution: 220\n"
          ]
        }
      ]
    },
    {
      "cell_type": "markdown",
      "source": [
        "Solution to (b). We split our possible solutions in 4:\n",
        "    \n",
        "\n",
        "*   We invest in all four;\n",
        "*   We invest in all except for the first one;\n",
        "*   We invest in all except for the second one;\n",
        "*   We invest in all except for the third one;\n",
        "*   We invest in all except for the fourth one.\n",
        "\n",
        "Hence,\n",
        "\n"
      ],
      "metadata": {
        "id": "Is49bCdzmwzz"
      }
    },
    {
      "cell_type": "code",
      "source": [
        "print('Solution:', binomial(9+4-1, 4-1) + binomial(11+3-1, 3-1) + binomial(11+3-1, 3-1) + binomial(12+3-1, 3-1) + binomial(13+3-1, 3-1))"
      ],
      "metadata": {
        "colab": {
          "base_uri": "https://localhost:8080/"
        },
        "id": "EEpp_afQnWfm",
        "outputId": "ba3bf9ea-37cd-4899-f169-f377be21f244"
      },
      "execution_count": 13,
      "outputs": [
        {
          "output_type": "stream",
          "name": "stdout",
          "text": [
            "Solution: 572\n"
          ]
        }
      ]
    }
  ]
}